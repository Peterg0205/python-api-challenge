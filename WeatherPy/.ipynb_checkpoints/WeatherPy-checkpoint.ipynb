{
 "cells": [
  {
   "cell_type": "code",
   "execution_count": null,
   "id": "473a41fb",
   "metadata": {},
   "outputs": [],
   "source": [
    "import os\n",
    "import time\n",
    "import random\n",
    "import pandas as pd\n",
    "import matplotlib.pyplot as plt\n",
    "import requests\n",
    "import json\n",
    "from scipy.stats import linregress\n",
    "from pprint import pprint\n",
    "import citypy\n",
    "from api_keys import weather_api_key\n",
    "from api_keys import g_key"
   ]
  },
  {
   "cell_type": "code",
   "execution_count": null,
   "id": "a97b947d",
   "metadata": {},
   "outputs": [],
   "source": [
    "with open('city.list.json', 'r',encoding='utf-8') as jsonfile:\n",
    "    jsndata = json.load(jsonfile)\n",
    "\n",
    "ids = []\n",
    "nam = []\n",
    "country = []\n",
    "lat = []\n",
    "lon = []\n",
    "\n",
    "for i in range(len(jsndata)):\n",
    "    ids.append(jsndata[i]['id'])\n",
    "    nam.append(jsndata[i]['name'].lower())\n",
    "    country.append(jsndata[i]['country'])\n",
    "    # need to lower the letter case because citipy uses lower case letters\n",
    "    lat.append(jsndata[i]['coord']['lat'])\n",
    "    lon.append(jsndata[i]['coord']['lon'])\n",
    "    \n",
    "dftemp = pd.DataFrame({'id':ids,'City':nam,'Country':country,'Lat':lat,'Lng':lon})\n",
    "dftemp.to_csv(\"/Users/petergunn/python-api-challenge/cities.csv\", index=False, header=True)"
   ]
  },
  {
   "cell_type": "code",
   "execution_count": null,
   "id": "bd36ae30",
   "metadata": {},
   "outputs": [],
   "source": [
    "dfcities = pd.read_csv(\"/Users/petergunn/python-api-challenge/cities.csv\", encoding=\"utf-8\")\n",
    "dfcities = dfcities.set_index('City')\n",
    "dfcities.head()"
   ]
  },
  {
   "cell_type": "code",
   "execution_count": null,
   "id": "0de3aad8",
   "metadata": {},
   "outputs": [],
   "source": []
  }
 ],
 "metadata": {
  "kernelspec": {
   "display_name": "PythonData",
   "language": "python",
   "name": "pythondata"
  },
  "language_info": {
   "codemirror_mode": {
    "name": "ipython",
    "version": 3
   },
   "file_extension": ".py",
   "mimetype": "text/x-python",
   "name": "python",
   "nbconvert_exporter": "python",
   "pygments_lexer": "ipython3",
   "version": "3.9.11"
  }
 },
 "nbformat": 4,
 "nbformat_minor": 5
}
