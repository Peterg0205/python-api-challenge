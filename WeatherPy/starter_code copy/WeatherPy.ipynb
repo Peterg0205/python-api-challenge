{
 "cells": [
  {
   "cell_type": "code",
   "execution_count": 2,
   "metadata": {},
   "outputs": [
    {
     "name": "stdout",
     "output_type": "stream",
     "text": [
      "/Users/petergunn/opt/anaconda3/envs/NewPythonData/bin/python\r\n"
     ]
    }
   ],
   "source": [
    "!which python"
   ]
  },
  {
   "cell_type": "code",
   "execution_count": 1,
   "metadata": {},
   "outputs": [],
   "source": [
    "import matplotlib.pyplot as plt\n",
    "import pandas as pd\n",
    "import numpy as np\n",
    "import requests\n",
    "import time\n",
    "from scipy.stats import linregress\n",
    "\n",
    "# Import API key\n",
    "from api_keys import weather_api_key\n",
    "\n",
    "# Incorporated citipy to determine city based on latitude and longitude\n",
    "from citipy import citipy\n",
    "\n",
    "# Output File (CSV)\n",
    "output_data_file = \"./cities.csv\"\n",
    "\n",
    "# Range of latitudes and longitudes\n",
    "lat_range = (-90, 90)\n",
    "lng_range = (-180, 180)"
   ]
  },
  {
   "cell_type": "code",
   "execution_count": null,
   "metadata": {},
   "outputs": [],
   "source": [
    "from citipy import citipy"
   ]
  },
  {
   "cell_type": "code",
   "execution_count": 9,
   "metadata": {},
   "outputs": [],
   "source": [
    "!which citipy"
   ]
  },
  {
   "cell_type": "markdown",
   "metadata": {},
   "source": [
    "# WeatherPy\n",
    "----\n",
    "\n",
    "#### Note\n",
    "* Instructions have been included for each segment. You do not have to follow them exactly, but they are included to help you think through the steps."
   ]
  },
  {
   "cell_type": "code",
   "execution_count": 2,
   "metadata": {},
   "outputs": [
    {
     "ename": "NameError",
     "evalue": "name 'citipy' is not defined",
     "output_type": "error",
     "traceback": [
      "\u001b[0;31m---------------------------------------------------------------------------\u001b[0m",
      "\u001b[0;31mNameError\u001b[0m                                 Traceback (most recent call last)",
      "Input \u001b[0;32mIn [2]\u001b[0m, in \u001b[0;36m<cell line: 11>\u001b[0;34m()\u001b[0m\n\u001b[1;32m     10\u001b[0m \u001b[38;5;66;03m# Identify nearest city for each lat, lng combination\u001b[39;00m\n\u001b[1;32m     11\u001b[0m \u001b[38;5;28;01mfor\u001b[39;00m lat_lng \u001b[38;5;129;01min\u001b[39;00m lat_lngs:\n\u001b[0;32m---> 12\u001b[0m     city \u001b[38;5;241m=\u001b[39m \u001b[43mcitipy\u001b[49m\u001b[38;5;241m.\u001b[39mnearest_city(lat_lng[\u001b[38;5;241m0\u001b[39m], lat_lng[\u001b[38;5;241m1\u001b[39m])\u001b[38;5;241m.\u001b[39mcity_name\n\u001b[1;32m     14\u001b[0m     \u001b[38;5;66;03m# If the city is unique, then add it to a our cities list\u001b[39;00m\n\u001b[1;32m     15\u001b[0m     \u001b[38;5;28;01mif\u001b[39;00m city \u001b[38;5;129;01mnot\u001b[39;00m \u001b[38;5;129;01min\u001b[39;00m cities:\n",
      "\u001b[0;31mNameError\u001b[0m: name 'citipy' is not defined"
     ]
    }
   ],
   "source": [
    "## Generate Cities List\n",
    "# List for holding lat_lngs and cities\n",
    "lat_lngs = []\n",
    "cities = []\n",
    "\n",
    "# Create a set of random lat and lng combinations\n",
    "lats = np.random.uniform(low=-90.000, high=90.000, size=1500)\n",
    "lngs = np.random.uniform(low=-180.000, high=180.000, size=1500)\n",
    "lat_lngs = zip(lats, lngs)\n",
    "\n",
    "# Identify nearest city for each lat, lng combination\n",
    "for lat_lng in lat_lngs:\n",
    "    city = citipy.nearest_city(lat_lng[0], lat_lng[1]).city_name\n",
    "    \n",
    "    # If the city is unique, then add it to a our cities list\n",
    "    if city not in cities:\n",
    "        cities.append(city)\n",
    "\n",
    "# Print the city count to confirm sufficient count\n",
    "len(cities)"
   ]
  },
  {
   "cell_type": "markdown",
   "metadata": {},
   "source": [
    "### Perform API Calls\n",
    "* Perform a weather check on each city using a series of successive API calls.\n",
    "* Include a print log of each city as it'sbeing processed (with the city number and city name).\n"
   ]
  },
  {
   "cell_type": "code",
   "execution_count": null,
   "metadata": {
    "scrolled": true
   },
   "outputs": [],
   "source": [
    "# Base URL\n",
    "url = \"http://api.openweathermap.org/data/2.5/weather?\"\n",
    "units = 'imperial'\n",
    "\n",
    "# List to hold response info\n",
    "city_list = []\n",
    "\n",
    "\n",
    "i = 0\n",
    "set_count = 1\n",
    "for index, city in enumerate(cities):\n",
    "    i +=1\n",
    "    query_url = url +'appid=' + weather_api_key +'&q='+ city + '&units=' + units\n",
    "    response = requests.get(query_url).json()\n",
    "    #print(response)\n",
    "    print(f'Loading .. {index} of {set_count} | {city}') \n",
    "    if response['cod'] == '404':\n",
    "        print(f'Could not find city. Pending...')\n",
    "    else:\n",
    "        city_list.append({\n",
    "            'City': response['name'],\n",
    "            'Lat': response['coord']['lat'],\n",
    "            'Lng': response['coord']['lon'],\n",
    "            'Max Temp': response['main']['temp_max'],\n",
    "            'Humidity': response['main']['humidity'],\n",
    "            'Cloudiness': response['clouds']['all'],\n",
    "            'Wind Speed': response['wind']['speed'],\n",
    "            'Country': response['sys']['country'],\n",
    "            'Date': response['dt']\n",
    "             })\n",
    "        \n",
    "    if i == 49:\n",
    "        i =0\n",
    "        set_count +=1       "
   ]
  },
  {
   "cell_type": "markdown",
   "metadata": {},
   "source": [
    "### Convert Raw Data to DataFrame\n",
    "* Export the city data into a .csv.\n",
    "* Display the DataFrame"
   ]
  },
  {
   "cell_type": "code",
   "execution_count": null,
   "metadata": {},
   "outputs": [],
   "source": [
    "weather_data = pd.DataFrame(city_list)\n",
    "weather_data\n",
    "\n",
    "# Export the city data into a .csv.\n",
    "weather_data.to_csv('./cities.csv', encoding='utf-8', index=False)\n",
    "\n",
    "# Display the DataFrame\n",
    "weather_data"
   ]
  },
  {
   "cell_type": "code",
   "execution_count": null,
   "metadata": {},
   "outputs": [],
   "source": []
  },
  {
   "cell_type": "markdown",
   "metadata": {},
   "source": [
    "# Finding cities with humidity over 100%"
   ]
  },
  {
   "cell_type": "code",
   "execution_count": null,
   "metadata": {},
   "outputs": [],
   "source": [
    "humidity_hundred = (len(weather_data.index[weather_data['Humidity']>100]))\n",
    "weather_data.describe()"
   ]
  },
  {
   "cell_type": "markdown",
   "metadata": {},
   "source": [
    "## Plotting the Data\n",
    "* Use proper labeling of the plots using plot titles (including date of analysis) and axes labels.\n",
    "* Save the plotted figures as .pngs."
   ]
  },
  {
   "cell_type": "markdown",
   "metadata": {},
   "source": [
    "## Latitude vs. Temperature Plot"
   ]
  },
  {
   "cell_type": "code",
   "execution_count": null,
   "metadata": {
    "scrolled": true
   },
   "outputs": [],
   "source": [
    "#Plot latitude vs temperature \n",
    "plt.scatter(weather_data['Lat'], weather_data['Max Temp'], marker='o', alpha=0.5, edgecolors='black')\n",
    "\n",
    "plt.title('City Latitude vs Max Temperature')\n",
    "plt.ylabel('Max Temperature(F)')\n",
    "plt.xlabel('Latitude')\n",
    "plt.grid(True)\n",
    "plt.show()"
   ]
  },
  {
   "cell_type": "markdown",
   "metadata": {},
   "source": [
    "## Latitude vs. Humidity Plot"
   ]
  },
  {
   "cell_type": "code",
   "execution_count": null,
   "metadata": {},
   "outputs": [],
   "source": [
    "#Plot latitude vs Humidity \n",
    "\n",
    "plt.scatter(weather_data['Lat'], weather_data['Humidity'], marker='o', alpha=0.5, edgecolors='black')\n",
    "\n",
    "plt.title('City Latitude vs Humidity')\n",
    "plt.ylabel('Humidity(%)')\n",
    "plt.xlabel('Latitude')\n",
    "plt.grid(True)\n",
    "plt.show()"
   ]
  },
  {
   "cell_type": "markdown",
   "metadata": {},
   "source": [
    "## Latitude vs. Cloudiness Plot"
   ]
  },
  {
   "cell_type": "code",
   "execution_count": null,
   "metadata": {},
   "outputs": [],
   "source": [
    "#Plot latitude vs Cloudiness \n",
    "plt.scatter(weather_data['Lat'], weather_data['Cloudiness'], marker='o',alpha=0.5, edgecolors='black')\n",
    "\n",
    "plt.title('City Latitude vs Cloudiness ')\n",
    "plt.ylabel('Cloudiness(%)')\n",
    "plt.xlabel('Latitude')\n",
    "plt.grid(True)\n",
    "plt.show()"
   ]
  },
  {
   "cell_type": "markdown",
   "metadata": {},
   "source": [
    "## Latitude vs. Wind Speed Plot"
   ]
  },
  {
   "cell_type": "code",
   "execution_count": null,
   "metadata": {},
   "outputs": [],
   "source": [
    "#Plot latitude vs Wind_Speed \n",
    "plt.scatter(weather_data['Lat'], weather_data['Wind Speed'], marker='o', alpha=0.5, edgecolors='black')\n",
    "\n",
    "plt.title('City Latitude vs Wind Speed')\n",
    "plt.ylabel('Wind Speed')\n",
    "plt.xlabel('Latitude')\n",
    "plt.grid(True)\n",
    "plt.show()"
   ]
  },
  {
   "cell_type": "markdown",
   "metadata": {},
   "source": [
    "## Linear Regression"
   ]
  },
  {
   "cell_type": "code",
   "execution_count": 3,
   "metadata": {},
   "outputs": [
    {
     "ename": "NameError",
     "evalue": "name 'weather_data' is not defined",
     "output_type": "error",
     "traceback": [
      "\u001b[0;31m---------------------------------------------------------------------------\u001b[0m",
      "\u001b[0;31mNameError\u001b[0m                                 Traceback (most recent call last)",
      "Input \u001b[0;32mIn [3]\u001b[0m, in \u001b[0;36m<cell line: 1>\u001b[0;34m()\u001b[0m\n\u001b[0;32m----> 1\u001b[0m north_hemi \u001b[38;5;241m=\u001b[39m \u001b[43mweather_data\u001b[49m\u001b[38;5;241m.\u001b[39mloc[weather_data[\u001b[38;5;124m'\u001b[39m\u001b[38;5;124mLat\u001b[39m\u001b[38;5;124m'\u001b[39m] \u001b[38;5;241m>\u001b[39m\u001b[38;5;241m=\u001b[39m \u001b[38;5;241m0\u001b[39m]\n\u001b[1;32m      2\u001b[0m north_hemi_cities \u001b[38;5;241m=\u001b[39m \u001b[38;5;28mlen\u001b[39m(north_hemi)\n\u001b[1;32m      4\u001b[0m \u001b[38;5;66;03m# Print Northern Hemisphere cities and DataFrame\u001b[39;00m\n",
      "\u001b[0;31mNameError\u001b[0m: name 'weather_data' is not defined"
     ]
    }
   ],
   "source": [
    "#North Hemisphese citiess \n",
    "north_hemi = weather_data.loc[weather_data['Lat'] >= 0]\n",
    "north_hemi_cities = len(north_hemi)\n",
    "\n",
    "print(f'There are {north_hemi_cities} cities in the Northern Hemisphere.')\n",
    "north_hemi\n"
   ]
  },
  {
   "cell_type": "code",
   "execution_count": null,
   "metadata": {},
   "outputs": [],
   "source": [
    "Southern Hemisphere cities\n",
    "south_hemi = weather_data.loc[weather_data['Lat']<0]\n",
    "south_hemi_cities = len(south_hemi)\n",
    "\n",
    "print(f'There are {south_hemi_cities} cities in the Southern Hemisphere.')\n",
    "south_hemi"
   ]
  },
  {
   "cell_type": "markdown",
   "metadata": {},
   "source": [
    "####  Northern Hemisphere - Max Temp vs. Latitude Linear Regression"
   ]
  },
  {
   "cell_type": "code",
   "execution_count": null,
   "metadata": {},
   "outputs": [],
   "source": [
    "x_values = north_hemi['Lat']\n",
    "y_values = north_hemi['Max Temp']\n",
    "\n",
    "(slope, intercept, rvalue, pvalue, stderr) = linregress(x_values, y_values)\n",
    "\n",
    "regress_values = x_values * slope + intercept\n",
    "\n",
    "line_eq = 'y = ' + str(round(slope,2)) + 'x + ' + str(round(intercept,2))\n",
    "line_eq\n",
    "\n",
    "print(f'r-value: {round(rvalue**2, 2)}')\n",
    "\n",
    "plt.scatter(x_values,y_values)\n",
    "plt.plot(x_values,regress_values,'r-')\n",
    "plt.title('Northern Hemisphere Cities Latitude vs Max Temperature')\n",
    "plt.xlabel('Latitude')\n",
    "plt.ylabel('Max Temperature(F)')\n",
    "plt.annotate(line_eq,(5,5), fontsize=15, color='black')\n",
    "\n",
    "\n",
    "\n",
    "plt.show()"
   ]
  },
  {
   "cell_type": "markdown",
   "metadata": {},
   "source": [
    "####  Southern Hemisphere - Max Temp vs. Latitude Linear Regression"
   ]
  },
  {
   "cell_type": "code",
   "execution_count": null,
   "metadata": {},
   "outputs": [],
   "source": [
    "x_values = south_hemi['Lat']\n",
    "y_values = south_hemi['Max Temp']\n",
    "\n",
    "(slope, intercept, rvalue, pvalue, stderr) = linregress(x_values, y_values)\n",
    "\n",
    "regress_values = x_values * slope + intercept\n",
    "\n",
    "line_eq = 'y = ' + str(round(slope,2)) + 'x + ' + str(round(intercept,2))\n",
    "print(line_eq)\n",
    "\n",
    "print(f' r-value: {round(rvalue**2, 2)}')\n",
    "\n",
    "plt.scatter(x_values,y_values)\n",
    "plt.plot(x_values,regress_values,'r-')\n",
    "plt.title('Southern Hemisphere Cities Latitude vs Max Temperature')\n",
    "plt.xlabel('Latitude')\n",
    "plt.ylabel('Max Temp(F)')\n",
    "plt.annotate(line_eq,(-25,45), fontsize=15, color='black')\n",
    "\n",
    "\n",
    "plt.show()"
   ]
  },
  {
   "cell_type": "markdown",
   "metadata": {},
   "source": [
    "####  Northern Hemisphere - Humidity (%) vs. Latitude Linear Regression"
   ]
  },
  {
   "cell_type": "code",
   "execution_count": null,
   "metadata": {},
   "outputs": [],
   "source": [
    "x_values = north_hemi['Lat']\n",
    "y_values = north_hemi['Humidity']\n",
    "\n",
    "(slope, intercept, rvalue, pvalue, stderr) = linregress(x_values, y_values)\n",
    "\n",
    "regress_values = x_values * slope + intercept\n",
    "\n",
    "line_eq = 'y = ' + str(round(slope,2)) + 'x + ' + str(round(intercept,2))\n",
    "print(line_eq)\n",
    "\n",
    "# Print r value\n",
    "print(f'r-value: {round(rvalue**2, 2)}')\n",
    "\n",
    "# Plot Linea Regression\n",
    "plt.scatter(x_values,y_values)\n",
    "plt.plot(x_values,regress_values,'r-')\n",
    "plt.title('Northern Hemisphere Cities Latitude vs Humidity ')\n",
    "plt.xlabel('Latitude')\n",
    "plt.ylabel('Humidity(%)')\n",
    "plt.annotate(line_eq,(45,1), fontsize=15, color='black')\n",
    "\n",
    "# Save the plotted figure as .png\n",
    "plt.savefig('../output_data/north_lat_vs_humidity.png')\n",
    "\n",
    "# Show the plot\n",
    "plt.show()"
   ]
  },
  {
   "cell_type": "markdown",
   "metadata": {},
   "source": [
    "####  Southern Hemisphere - Humidity (%) vs. Latitude Linear Regression"
   ]
  },
  {
   "cell_type": "code",
   "execution_count": null,
   "metadata": {},
   "outputs": [],
   "source": [
    "x_values = south_hemi['Lat']\n",
    "y_values = south_hemi['Humidity']\n",
    "\n",
    "(slope, intercept, rvalue, pvalue, stderr) = linregress(x_values, y_values)\n",
    "\n",
    "regress_values = x_values * slope + intercept\n",
    "\n",
    "line_eq = 'y = ' + str(round(slope,2)) + 'x + ' + str(round(intercept,2))\n",
    "print(line_eq)\n",
    "\n",
    "print(f'r-value : {round(rvalue**2, 2)}')\n",
    "\n",
    "plt.scatter(x_values,y_values)\n",
    "plt.plot(x_values,regress_values,'r-')\n",
    "plt.title('Southern Hemisphere Cities Latitude vs Humidity')\n",
    "plt.xlabel('Latitude')\n",
    "plt.ylabel('Humidity(%)')\n",
    "plt.annotate(line_eq,(-56,50), fontsize=14, color='black')\n",
    "\n",
    "\n",
    "plt.show()"
   ]
  },
  {
   "cell_type": "markdown",
   "metadata": {},
   "source": [
    "####  Northern Hemisphere - Cloudiness (%) vs. Latitude Linear Regression"
   ]
  },
  {
   "cell_type": "code",
   "execution_count": null,
   "metadata": {},
   "outputs": [],
   "source": [
    "x_values = north_hemi['Lat']\n",
    "y_values = north_hemi['Cloudiness']\n",
    "\n",
    "(slope, intercept, rvalue, pvalue, stderr) = linregress(x_values, y_values)\n",
    "\n",
    "regress_values = x_values * slope + intercept\n",
    "\n",
    "line_eq = 'y = ' + str(round(slope,2)) + 'x + ' + str(round(intercept,2))\n",
    "print(line_eq)\n",
    "\n",
    "print(f'r-value: {round(rvalue**2, 2)}')\n",
    "\n",
    "plt.scatter(x_values,y_values)\n",
    "plt.plot(x_values,regress_values,'r-')\n",
    "plt.title('Northern Hemisphere Cities Latitude vs Cloudiness')\n",
    "plt.xlabel('Latitude')\n",
    "plt.ylabel('Cloudiness(%)')\n",
    "plt.annotate(line_eq,(40, 47), fontsize=15, color='black')\n",
    "\n",
    "\n",
    "plt.show()"
   ]
  },
  {
   "cell_type": "markdown",
   "metadata": {},
   "source": [
    "####  Southern Hemisphere - Cloudiness (%) vs. Latitude Linear Regression"
   ]
  },
  {
   "cell_type": "code",
   "execution_count": null,
   "metadata": {},
   "outputs": [],
   "source": [
    "x_values = south_hemi['Lat']\n",
    "y_values = south_hemi['Cloudiness']\n",
    "\n",
    "(slope, intercept, rvalue, pvalue, stderr) = linregress(x_values, y_values)\n",
    "\n",
    "regress_values = x_values * slope + intercept\n",
    "\n",
    "line_eq = 'y = ' + str(round(slope,2)) + 'x + ' + str(round(intercept,2))\n",
    "print(line_eq)\n",
    "\n",
    "print(f' r-value : {round(rvalue**2, 2)}')\n",
    "\n",
    "plt.scatter(x_values,y_values)\n",
    "plt.plot(x_values,regress_values,'r-')\n",
    "plt.title('Southern Hemisphere Cities Latitude vs Cloudiness')\n",
    "plt.xlabel('Latitude')\n",
    "plt.ylabel('Cloudiness(%)')\n",
    "plt.annotate(line_eq,(-50,55), fontsize=15, color='black')\n",
    "\n",
    "\n",
    "plt.show()"
   ]
  },
  {
   "cell_type": "markdown",
   "metadata": {},
   "source": [
    "####  Northern Hemisphere - Wind Speed (mph) vs. Latitude Linear Regression"
   ]
  },
  {
   "cell_type": "code",
   "execution_count": null,
   "metadata": {},
   "outputs": [],
   "source": [
    "x_values = north_hemi['Lat']\n",
    "y_values = north_hemi['Wind Speed']\n",
    "\n",
    "(slope, intercept, rvalue, pvalue, stderr) = linregress(x_values, y_values)\n",
    "\n",
    "regress_values = x_values * slope + intercept\n",
    "\n",
    "line_eq = 'y = ' + str(round(slope,2)) + 'x + ' + str(round(intercept,2))\n",
    "print(line_eq)\n",
    "\n",
    "print(f' r-value : {round(rvalue**2, 3)}')\n",
    "\n",
    "plt.scatter(x_values,y_values)\n",
    "plt.plot(x_values,regress_values,'r-')\n",
    "plt.title('Northern Hemisphere Cities Latitude vs Wind Speed')\n",
    "plt.xlabel('Latitude')\n",
    "plt.ylabel('Wind Speed')\n",
    "plt.annotate(line_eq,(10,25), fontsize=15, color='black')\n",
    "\n",
    "\n",
    "plt.show()"
   ]
  },
  {
   "cell_type": "markdown",
   "metadata": {},
   "source": [
    "####  Southern Hemisphere - Wind Speed (mph) vs. Latitude Linear Regression"
   ]
  },
  {
   "cell_type": "code",
   "execution_count": null,
   "metadata": {},
   "outputs": [],
   "source": [
    "x_values = south_hemi['Lat']\n",
    "y_values = south_hemi['Wind Speed']\n",
    "\n",
    "(slope, intercept, rvalue, pvalue, stderr) = linregress(x_values, y_values)\n",
    "\n",
    "regress_values = x_values * slope + intercept\n",
    "\n",
    "line_eq = 'y = ' + str(round(slope,2)) + 'x + ' + str(round(intercept,2))\n",
    "print(line_eq)\n",
    "\n",
    "print(f' r-value : {round(rvalue**2, 2)}')\n",
    "\n",
    "plt.scatter(x_values,y_values)\n",
    "plt.plot(x_values,regress_values,'r-')\n",
    "plt.title('Southern Hemisphere Cities Latitude vs Wind Speed ')\n",
    "plt.xlabel('Latitude')\n",
    "plt.ylabel('Wind Speed(MPH)')\n",
    "plt.annotate(line_eq,(-55, 12), fontsize=15, color='red')\n",
    "\n",
    "\n",
    "plt.show()"
   ]
  },
  {
   "cell_type": "code",
   "execution_count": null,
   "metadata": {},
   "outputs": [],
   "source": []
  }
 ],
 "metadata": {
  "anaconda-cloud": {},
  "kernel_info": {
   "name": "python3"
  },
  "kernelspec": {
   "display_name": "PythonData",
   "language": "python",
   "name": "pythondata"
  },
  "language_info": {
   "codemirror_mode": {
    "name": "ipython",
    "version": 3
   },
   "file_extension": ".py",
   "mimetype": "text/x-python",
   "name": "python",
   "nbconvert_exporter": "python",
   "pygments_lexer": "ipython3",
   "version": "3.9.11"
  },
  "latex_envs": {
   "LaTeX_envs_menu_present": true,
   "autoclose": false,
   "autocomplete": true,
   "bibliofile": "biblio.bib",
   "cite_by": "apalike",
   "current_citInitial": 1,
   "eqLabelWithNumbers": true,
   "eqNumInitial": 1,
   "hotkeys": {
    "equation": "Ctrl-E",
    "itemize": "Ctrl-I"
   },
   "labels_anchors": false,
   "latex_user_defs": false,
   "report_style_numbering": false,
   "user_envs_cfg": false
  },
  "nteract": {
   "version": "0.12.3"
  }
 },
 "nbformat": 4,
 "nbformat_minor": 2
}
